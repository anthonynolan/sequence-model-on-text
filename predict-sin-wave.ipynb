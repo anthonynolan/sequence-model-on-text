{
 "cells": [
  {
   "cell_type": "code",
   "execution_count": null,
   "metadata": {},
   "outputs": [],
   "source": [
    "import numpy as np\n",
    "import matplotlib.pyplot as plt\n",
    "from tensorflow.keras import layers\n",
    "from tensorflow import keras\n",
    "import tensorflow as tf\n",
    "\n",
    "T = 1000\n",
    "\n",
    "time = np.arange(0,T)\n",
    "fn = np.sin(time/100)\n",
    "\n",
    "noise = np.random.randn(len(time))/15\n",
    "fn = fn+noise\n",
    "\n",
    "plt.plot(time, fn)\n",
    "plt.show()"
   ]
  },
  {
   "cell_type": "code",
   "execution_count": null,
   "metadata": {},
   "outputs": [],
   "source": [
    "def prep_data_old(_tau):\n",
    "    tau = _tau\n",
    "    data = np.zeros((time.shape[0]-tau, tau))\n",
    "    for a in range(len(time)-tau):\n",
    "        data[a] = fn[a:a+tau]\n",
    "    y = data[:,-1]\n",
    "    X = data[:,:-1]\n",
    "\n",
    "    split = len(X)//5\n",
    "    X_train, X_test =  X[split:], X[:split]\n",
    "    y_train, y_test = y[split:], y[:split]\n",
    "\n",
    "    return X_train, X_test, y_train, y_test"
   ]
  },
  {
   "cell_type": "code",
   "execution_count": null,
   "metadata": {},
   "outputs": [],
   "source": [
    "def get_model():\n",
    "    model = keras.Sequential()\n",
    "    model.add(layers.Embedding(input_dim=X_train.shape[1], output_dim=4))\n",
    "    model.add(layers.LSTM(128, return_sequences=True))\n",
    "    model.add(layers.Dense(10, activation='relu'))\n",
    "    model.add(layers.Dense(1))\n",
    "    opt = tf.keras.optimizers.Adam(.1)\n",
    "    model.compile(optimizer=opt, loss='mse', metrics=['mse', 'mae'])\n",
    "    return model\n",
    "\n",
    "get_model().summary()"
   ]
  },
  {
   "cell_type": "code",
   "execution_count": null,
   "metadata": {},
   "outputs": [],
   "source": [
    "X_train, X_test, y_train, y_test = prep_data(20)\n",
    "model = get_model()\n",
    "model.fit(X_train, y_train, epochs=2, batch_size=16, verbose=0)\n",
    "model.evaluate(X_test, y_test)\n",
    "plt.plot(y_train, label='truth')\n",
    "plt.plot(model.predict(X_train), label='predict')\n",
    "#plt.title(f'tau: {taus}')\n",
    "plt.legend()\n",
    "plt.show()"
   ]
  },
  {
   "cell_type": "code",
   "execution_count": null,
   "metadata": {},
   "outputs": [],
   "source": [
    "def prep_data(_tau):\n",
    "    tau = _tau\n",
    "    data = np.zeros((time.shape[0]-tau, tau*2))\n",
    "    for a in range(len(time)-tau):\n",
    "        data[a] = np.append(fn[a:a+tau], fn[a+1:a+tau+1])\n",
    "        \n",
    "    y = data[:,-tau:]\n",
    "    X = data[:,:-tau]\n",
    "\n",
    "    split = len(X)//5\n",
    "    X_train, X_test =  X[split:], X[:split]\n",
    "    y_train, y_test = y[split:], y[:split]\n",
    "\n",
    "    return X_train, X_test, y_train, y_test"
   ]
  }
 ],
 "metadata": {
  "kernelspec": {
   "display_name": "myenv",
   "language": "python",
   "name": "myenv"
  },
  "language_info": {
   "codemirror_mode": {
    "name": "ipython",
    "version": 3
   },
   "file_extension": ".py",
   "mimetype": "text/x-python",
   "name": "python",
   "nbconvert_exporter": "python",
   "pygments_lexer": "ipython3",
   "version": "3.8.3"
  }
 },
 "nbformat": 4,
 "nbformat_minor": 4
}
