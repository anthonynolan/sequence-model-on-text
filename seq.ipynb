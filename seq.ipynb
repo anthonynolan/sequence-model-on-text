{
 "cells": [
  {
   "cell_type": "code",
   "execution_count": 1,
   "metadata": {
    "ExecuteTime": {
     "end_time": "2020-09-16T09:57:01.858227Z",
     "start_time": "2020-09-16T09:57:01.769061Z"
    }
   },
   "outputs": [
    {
     "ename": "ModuleNotFoundError",
     "evalue": "No module named 'glob2'",
     "output_type": "error",
     "traceback": [
      "\u001b[0;31m---------------------------------------------------------------------------\u001b[0m",
      "\u001b[0;31mModuleNotFoundError\u001b[0m                       Traceback (most recent call last)",
      "\u001b[0;32m<ipython-input-1-92dd10490495>\u001b[0m in \u001b[0;36m<module>\u001b[0;34m\u001b[0m\n\u001b[0;32m----> 1\u001b[0;31m \u001b[0;32mimport\u001b[0m \u001b[0mglob2\u001b[0m\u001b[0;34m\u001b[0m\u001b[0;34m\u001b[0m\u001b[0m\n\u001b[0m",
      "\u001b[0;31mModuleNotFoundError\u001b[0m: No module named 'glob2'"
     ]
    }
   ],
   "source": [
    "import glob2"
   ]
  },
  {
   "cell_type": "code",
   "execution_count": null,
   "metadata": {},
   "outputs": [],
   "source": [
    "# set up variables\n",
    "\n",
    "unknown_word_token = '<UNK>'\n",
    "context_size = 2\n",
    "\n",
    "porterStemmer = PorterStemmer()\n",
    "\n",
    "minimum_frequency = 10\n",
    "\n",
    "data_dir='data/'"
   ]
  },
  {
   "cell_type": "code",
   "execution_count": null,
   "metadata": {},
   "outputs": [],
   "source": []
  },
  {
   "cell_type": "code",
   "execution_count": 2,
   "metadata": {
    "ExecuteTime": {
     "end_time": "2020-09-16T09:50:17.062013Z",
     "start_time": "2020-09-16T09:50:17.058614Z"
    }
   },
   "outputs": [],
   "source": [
    "# define functions\n",
    "\n",
    "def read_corpus(title=None):\n",
    "    if not title:\n",
    "        \n",
    "    with open(data_dir+title, 'rt', encoding='utf-8-sig') as f:\n",
    "        content = f.read()\n",
    "    return content\n",
    "\n",
    "def process(st):\n",
    "    strip_chars = ['\\'']\n",
    "    for c in strip_chars:\n",
    "        st = st.replace(c , '')\n",
    "\n",
    "    rep_with_space_chars = [',', '.', '!', '?', '\"', '-', ';', '(', ')']\n",
    "    for c in rep_with_space_chars:\n",
    "        st = st.replace(c , ' ')\n",
    "\n",
    "    word_list = word_tokenize(st)\n",
    "    word_list = [porterStemmer.stem(a.lower().strip()) for a in word_list]\n",
    "    return word_list"
   ]
  },
  {
   "cell_type": "code",
   "execution_count": 3,
   "metadata": {
    "ExecuteTime": {
     "end_time": "2020-09-16T09:51:10.570916Z",
     "start_time": "2020-09-16T09:51:10.560569Z"
    }
   },
   "outputs": [
    {
     "data": {
      "text/plain": [
       "\"The Project Gutenberg eBook, Bleak House, by Charles Dickens\\n\\n\\nThis eBook is for the use of anyone anywhere at no cost and with\\nalmost no restrictions whatsoever.  You may copy it, give it away or\\nre-use it under the terms of the Project Gutenberg License included\\nwith this eBook or online at www.gutenberg.org\\n\\n\\n\\n\\n\\nTitle: Bleak House\\n\\n\\nAuthor: Charles Dickens\\n\\n\\nRelease Date: August 1, 1997  [eBook #1023]\\nMost recently updated: February 21, 2012\\n\\nLanguage: English\\n\\nCharacter set encoding: ISO-646-US (US-ASCII)\\n\\n\\n***START OF THE PROJECT GUTENBERG EBOOK BLEAK HOUSE***\\n\\n\\nE-text prepared by Donald Lainson, Toronto, Canada,\\nand revised by Thomas Berger and Joseph E. Loewenstein, M.D.\\n\\n\\n\\nBLEAK HOUSE\\n\\nby\\n\\nCHARLES DICKENS\\n\\n\\n\\n\\n\\nCONTENTS\\n\\n            Preface\\n         I. In Chancery\\n        II. In Fashion\\n       III. A Progress\\n        IV. Telescopic Philanthropy\\n         V. A Morning Adventure\\n        VI. Quite at Home\\n       VII. The Ghost's Walk\\n      VIII. Covering a Multitude of Sins\\n        \""
      ]
     },
     "execution_count": 3,
     "metadata": {},
     "output_type": "execute_result"
    }
   ],
   "source": [
    "# Execution section\n",
    "read_corpus()[:1000]"
   ]
  },
  {
   "cell_type": "code",
   "execution_count": null,
   "metadata": {},
   "outputs": [],
   "source": []
  }
 ],
 "metadata": {
  "kernelspec": {
   "display_name": "Python 3",
   "language": "python",
   "name": "python3"
  },
  "language_info": {
   "codemirror_mode": {
    "name": "ipython",
    "version": 3
   },
   "file_extension": ".py",
   "mimetype": "text/x-python",
   "name": "python",
   "nbconvert_exporter": "python",
   "pygments_lexer": "ipython3",
   "version": "3.7.5"
  }
 },
 "nbformat": 4,
 "nbformat_minor": 4
}
