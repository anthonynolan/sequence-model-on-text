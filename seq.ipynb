{
 "cells": [
  {
   "cell_type": "code",
   "execution_count": null,
   "metadata": {
    "ExecuteTime": {
     "end_time": "2020-10-12T09:46:38.439540Z",
     "start_time": "2020-10-12T09:46:36.197057Z"
    }
   },
   "outputs": [],
   "source": [
    "import glob2\n",
    "from nltk import PorterStemmer, word_tokenize, FreqDist\n",
    "from collections import Counter\n",
    "import numpy as np\n",
    "from sklearn.model_selection import train_test_split\n",
    "from tensorflow.keras.utils import to_categorical\n",
    "import tensorflow as tf\n",
    "from tensorflow.keras import layers, Sequential"
   ]
  },
  {
   "cell_type": "code",
   "execution_count": null,
   "metadata": {
    "ExecuteTime": {
     "end_time": "2020-10-12T09:32:40.076544Z",
     "start_time": "2020-10-12T09:32:40.072275Z"
    }
   },
   "outputs": [],
   "source": [
    "# set up variables\n",
    "\n",
    "unknown_word_token = '<UNK>'\n",
    "context_size = 2\n",
    "\n",
    "porterStemmer = PorterStemmer()\n",
    "\n",
    "minimum_frequency = 1\n",
    "\n",
    "data_dir='data/'"
   ]
  },
  {
   "cell_type": "code",
   "execution_count": null,
   "metadata": {
    "ExecuteTime": {
     "end_time": "2020-10-12T09:32:40.092858Z",
     "start_time": "2020-10-12T09:32:40.081297Z"
    }
   },
   "outputs": [],
   "source": [
    "# define functions\n",
    "\n",
    "def read_corpus(titles=None):\n",
    "    if not titles:\n",
    "        files = glob2.glob(data_dir+'*')\n",
    "    else:\n",
    "        files = []\n",
    "        for title in titles:\n",
    "            files.append(data_dir+title)\n",
    "    print(files)\n",
    "\n",
    "    content = ''\n",
    "    for file in files:\n",
    "        with open(file, 'rt', encoding='utf-8-sig') as f:\n",
    "            content += f.read()[:100000]\n",
    "    return content\n",
    "\n",
    "\n",
    "def process(st):\n",
    "    strip_chars = ['\\'']\n",
    "    for c in strip_chars:\n",
    "        st = st.replace(c , '')\n",
    "\n",
    "    rep_with_space_chars = [',', '.', '!', '?', '\"', '-', ';', '(', ')']\n",
    "    for c in rep_with_space_chars:\n",
    "        st = st.replace(c , ' ')\n",
    "\n",
    "    word_list = word_tokenize(st)\n",
    "    word_list = [porterStemmer.stem(a.lower().strip()) for a in word_list]\n",
    "    return word_list\n",
    "\n",
    "\n",
    "def replace_uncommon_words(words):    \n",
    "    most_common_count = len({k:v for k, v in FreqDist(words).items() if v>minimum_frequency})\n",
    "    c = Counter(words)\n",
    "    most_common = [pair[0] for pair in c.most_common(most_common_count)]\n",
    "    return [word if word in most_common else unknown_word_token for word in words]\n",
    "\n",
    "\n",
    "def create_word_indices(words):\n",
    "    vocab = set(words)\n",
    "    index_to_word = {k:v for k, v in enumerate(vocab)}\n",
    "    word_to_index = {v:k for k, v in index_to_word.items()}; \n",
    "    return index_to_word, word_to_index, vocab\n",
    "\n",
    "\n",
    "def convert_window(words_with_unk):\n",
    "    length = 10\n",
    "    sequences = []\n",
    "    for a in range(length, len(words_with_unk)):\n",
    "        sequences.append(words_with_unk[a-length:a+1])\n",
    "    \n",
    "    return sequences\n",
    "\n",
    "\n",
    "def split_data(X, Y):\n",
    "    X_train_incl_val, X_test, Y_train_incl_val, Y_test = train_test_split(X, Y)\n",
    "    X_train, X_val, Y_train, Y_val = train_test_split(X_train_incl_val, Y_train_incl_val)\n",
    "    return X_train, X_val, X_test, Y_train, Y_val, Y_test\n"
   ]
  },
  {
   "cell_type": "code",
   "execution_count": null,
   "metadata": {
    "ExecuteTime": {
     "end_time": "2020-10-12T09:32:40.106147Z",
     "start_time": "2020-10-12T09:32:40.096046Z"
    }
   },
   "outputs": [],
   "source": [
    "# Execution section\n",
    "corpus = read_corpus(['bleak.txt'])\n",
    "print(len(corpus))"
   ]
  },
  {
   "cell_type": "code",
   "execution_count": null,
   "metadata": {
    "ExecuteTime": {
     "end_time": "2020-10-12T09:32:40.117746Z",
     "start_time": "2020-10-12T09:32:40.107867Z"
    }
   },
   "outputs": [],
   "source": [
    "corpus[:1000]"
   ]
  },
  {
   "cell_type": "code",
   "execution_count": null,
   "metadata": {
    "ExecuteTime": {
     "end_time": "2020-10-12T09:32:40.481211Z",
     "start_time": "2020-10-12T09:32:40.119435Z"
    }
   },
   "outputs": [],
   "source": [
    "words = process(corpus)\n",
    "words[:10]"
   ]
  },
  {
   "cell_type": "code",
   "execution_count": null,
   "metadata": {
    "ExecuteTime": {
     "end_time": "2020-10-12T09:32:40.577722Z",
     "start_time": "2020-10-12T09:32:40.482562Z"
    }
   },
   "outputs": [],
   "source": [
    "words_with_unk = replace_uncommon_words(words)\n",
    "words_with_unk[:5]"
   ]
  },
  {
   "cell_type": "code",
   "execution_count": null,
   "metadata": {
    "ExecuteTime": {
     "end_time": "2020-10-12T09:32:40.584424Z",
     "start_time": "2020-10-12T09:32:40.580376Z"
    }
   },
   "outputs": [],
   "source": [
    "index_to_word, word_to_index, vocab = create_word_indices(words_with_unk)"
   ]
  },
  {
   "cell_type": "code",
   "execution_count": null,
   "metadata": {
    "ExecuteTime": {
     "end_time": "2020-10-12T09:32:40.592632Z",
     "start_time": "2020-10-12T09:32:40.587316Z"
    }
   },
   "outputs": [],
   "source": [
    "vocab_size = len(vocab)\n",
    "vocab_size"
   ]
  },
  {
   "cell_type": "code",
   "execution_count": null,
   "metadata": {
    "ExecuteTime": {
     "end_time": "2020-10-12T09:32:40.609511Z",
     "start_time": "2020-10-12T09:32:40.594179Z"
    }
   },
   "outputs": [],
   "source": [
    "examples = convert_window(words_with_unk)\n",
    "examples[:2]"
   ]
  },
  {
   "cell_type": "code",
   "execution_count": null,
   "metadata": {
    "ExecuteTime": {
     "end_time": "2020-10-12T09:32:40.614970Z",
     "start_time": "2020-10-12T09:32:40.611017Z"
    }
   },
   "outputs": [],
   "source": [
    "def convert_word_data_to_numbers(input):\n",
    "    Xs = []\n",
    "    Ys = []\n",
    "    for row in input:\n",
    "        Xs.append([word_to_index[word] for word in row[:-1]])\n",
    "        Ys.append([word_to_index[word] for word in row[-1:]])\n",
    "\n",
    "    X = np.vstack(Xs)\n",
    "    Y = np.vstack(Ys)\n",
    "\n",
    "    return X, Y"
   ]
  },
  {
   "cell_type": "code",
   "execution_count": null,
   "metadata": {
    "ExecuteTime": {
     "end_time": "2020-10-12T09:32:40.856319Z",
     "start_time": "2020-10-12T09:32:40.618714Z"
    }
   },
   "outputs": [],
   "source": [
    "X, Y = convert_word_data_to_numbers(examples)"
   ]
  },
  {
   "cell_type": "code",
   "execution_count": null,
   "metadata": {
    "ExecuteTime": {
     "end_time": "2020-10-12T09:32:40.862322Z",
     "start_time": "2020-10-12T09:32:40.857939Z"
    }
   },
   "outputs": [],
   "source": [
    "X[0:5]"
   ]
  },
  {
   "cell_type": "code",
   "execution_count": null,
   "metadata": {
    "ExecuteTime": {
     "end_time": "2020-10-12T09:32:40.869380Z",
     "start_time": "2020-10-12T09:32:40.864665Z"
    }
   },
   "outputs": [],
   "source": [
    "Y[0:5]"
   ]
  },
  {
   "cell_type": "code",
   "execution_count": null,
   "metadata": {
    "ExecuteTime": {
     "end_time": "2020-10-12T09:32:41.190421Z",
     "start_time": "2020-10-12T09:32:40.871037Z"
    }
   },
   "outputs": [],
   "source": [
    "Y = to_categorical(Y, num_classes=vocab_size)\n",
    "X = to_categorical(X, num_classes=vocab_size)\n",
    "X.shape, Y.shape"
   ]
  },
  {
   "cell_type": "code",
   "execution_count": null,
   "metadata": {
    "ExecuteTime": {
     "end_time": "2020-10-12T09:32:42.429531Z",
     "start_time": "2020-10-12T09:32:41.192027Z"
    }
   },
   "outputs": [],
   "source": [
    "X_train, X_val, X_test, Y_train, Y_val, Y_test =  split_data(X, Y)"
   ]
  },
  {
   "cell_type": "code",
   "execution_count": null,
   "metadata": {
    "ExecuteTime": {
     "end_time": "2020-10-12T09:32:42.708417Z",
     "start_time": "2020-10-12T09:32:42.431114Z"
    }
   },
   "outputs": [],
   "source": [
    "model = Sequential()\n",
    "model.add(layers.LSTM(units=75, input_shape=(X.shape[1], X.shape[2])))\n",
    "model.add(layers.Dense(vocab_size, activation='softmax'))\n",
    "model.compile(optimizer='adam', loss='categorical_crossentropy', metrics=['accuracy'])"
   ]
  },
  {
   "cell_type": "code",
   "execution_count": null,
   "metadata": {
    "ExecuteTime": {
     "end_time": "2020-10-12T09:33:38.739015Z",
     "start_time": "2020-10-12T09:32:42.710052Z"
    }
   },
   "outputs": [],
   "source": [
    "model.fit(X_train, Y_train, epochs=20, verbose=2, batch_size=64)"
   ]
  },
  {
   "cell_type": "code",
   "execution_count": null,
   "metadata": {},
   "outputs": [],
   "source": []
  }
 ],
 "metadata": {
  "kernelspec": {
   "display_name": "myenv",
   "language": "python",
   "name": "myenv"
  },
  "language_info": {
   "codemirror_mode": {
    "name": "ipython",
    "version": 3
   },
   "file_extension": ".py",
   "mimetype": "text/x-python",
   "name": "python",
   "nbconvert_exporter": "python",
   "pygments_lexer": "ipython3",
   "version": "3.8.3"
  },
  "toc-showcode": true,
  "toc-showmarkdowntxt": true
 },
 "nbformat": 4,
 "nbformat_minor": 4
}
