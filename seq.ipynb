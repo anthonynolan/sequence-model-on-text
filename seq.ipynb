{
 "cells": [
  {
   "cell_type": "code",
   "execution_count": 19,
   "metadata": {
    "ExecuteTime": {
     "end_time": "2020-10-12T09:44:14.586903Z",
     "start_time": "2020-10-12T09:44:14.580805Z"
    }
   },
   "outputs": [
    {
     "name": "stdout",
     "output_type": "stream",
     "text": [
      "done\n"
     ]
    }
   ],
   "source": [
    "import glob2\n",
    "from nltk import PorterStemmer, word_tokenize, FreqDist\n",
    "from collections import Counter\n",
    "import numpy as np\n",
    "from sklearn.model_selection import train_test_split\n",
    "from tensorflow.keras.utils import to_categorical\n",
    "import tensorflow as tf\n",
    "from tensorflow.keras import layers, Sequential\n",
    "print('done')"
   ]
  },
  {
   "cell_type": "code",
   "execution_count": 2,
   "metadata": {
    "ExecuteTime": {
     "end_time": "2020-10-12T09:32:40.076544Z",
     "start_time": "2020-10-12T09:32:40.072275Z"
    }
   },
   "outputs": [],
   "source": [
    "# set up variables\n",
    "\n",
    "unknown_word_token = '<UNK>'\n",
    "context_size = 2\n",
    "\n",
    "porterStemmer = PorterStemmer()\n",
    "\n",
    "minimum_frequency = 1\n",
    "\n",
    "data_dir='data/'"
   ]
  },
  {
   "cell_type": "code",
   "execution_count": 3,
   "metadata": {
    "ExecuteTime": {
     "end_time": "2020-10-12T09:32:40.092858Z",
     "start_time": "2020-10-12T09:32:40.081297Z"
    }
   },
   "outputs": [],
   "source": [
    "# define functions\n",
    "\n",
    "def read_corpus(titles=None):\n",
    "    if not titles:\n",
    "        files = glob2.glob(data_dir+'*')\n",
    "    else:\n",
    "        files = []\n",
    "        for title in titles:\n",
    "            files.append(data_dir+title)\n",
    "    print(files)\n",
    "\n",
    "    content = ''\n",
    "    for file in files:\n",
    "        with open(file, 'rt', encoding='utf-8-sig') as f:\n",
    "            content += f.read()[:100000]\n",
    "    return content\n",
    "\n",
    "\n",
    "def process(st):\n",
    "    strip_chars = ['\\'']\n",
    "    for c in strip_chars:\n",
    "        st = st.replace(c , '')\n",
    "\n",
    "    rep_with_space_chars = [',', '.', '!', '?', '\"', '-', ';', '(', ')']\n",
    "    for c in rep_with_space_chars:\n",
    "        st = st.replace(c , ' ')\n",
    "\n",
    "    word_list = word_tokenize(st)\n",
    "    word_list = [porterStemmer.stem(a.lower().strip()) for a in word_list]\n",
    "    return word_list\n",
    "\n",
    "\n",
    "def replace_uncommon_words(words):    \n",
    "    most_common_count = len({k:v for k, v in FreqDist(words).items() if v>minimum_frequency})\n",
    "    c = Counter(words)\n",
    "    most_common = [pair[0] for pair in c.most_common(most_common_count)]\n",
    "    return [word if word in most_common else unknown_word_token for word in words]\n",
    "\n",
    "\n",
    "def create_word_indices(words):\n",
    "    vocab = set(words)\n",
    "    index_to_word = {k:v for k, v in enumerate(vocab)}\n",
    "    word_to_index = {v:k for k, v in index_to_word.items()}; \n",
    "    return index_to_word, word_to_index, vocab\n",
    "\n",
    "\n",
    "def convert_window(words_with_unk):\n",
    "    length = 10\n",
    "    sequences = []\n",
    "    for a in range(length, len(words_with_unk)):\n",
    "        sequences.append(words_with_unk[a-length:a+1])\n",
    "    \n",
    "    return sequences\n",
    "\n",
    "\n",
    "def split_data(X, Y):\n",
    "    X_train_incl_val, X_test, Y_train_incl_val, Y_test = train_test_split(X, Y)\n",
    "    X_train, X_val, Y_train, Y_val = train_test_split(X_train_incl_val, Y_train_incl_val)\n",
    "    return X_train, X_val, X_test, Y_train, Y_val, Y_test\n"
   ]
  },
  {
   "cell_type": "code",
   "execution_count": 4,
   "metadata": {
    "ExecuteTime": {
     "end_time": "2020-10-12T09:32:40.106147Z",
     "start_time": "2020-10-12T09:32:40.096046Z"
    }
   },
   "outputs": [
    {
     "name": "stdout",
     "output_type": "stream",
     "text": [
      "['data/bleak.txt']\n",
      "100000\n"
     ]
    }
   ],
   "source": [
    "# Execution section\n",
    "corpus = read_corpus(['bleak.txt'])\n",
    "print(len(corpus))"
   ]
  },
  {
   "cell_type": "code",
   "execution_count": 5,
   "metadata": {
    "ExecuteTime": {
     "end_time": "2020-10-12T09:32:40.117746Z",
     "start_time": "2020-10-12T09:32:40.107867Z"
    }
   },
   "outputs": [
    {
     "data": {
      "text/plain": [
       "\"BLEAK HOUSE\\n\\nby\\n\\nCHARLES DICKENS\\n\\n\\n\\n\\n\\nCONTENTS\\n\\n            Preface\\n         I. In Chancery\\n        II. In Fashion\\n       III. A Progress\\n        IV. Telescopic Philanthropy\\n         V. A Morning Adventure\\n        VI. Quite at Home\\n       VII. The Ghost's Walk\\n      VIII. Covering a Multitude of Sins\\n        IX. Signs and Tokens\\n         X. The Law-Writer\\n        XI. Our Dear Brother\\n       XII. On the Watch\\n      XIII. Esther's Narrative\\n       XIV. Deportment\\n        XV. Bell Yard\\n       XVI. Tom-all-Alone's\\n      XVII. Esther's Narrative\\n     XVIII. Lady Dedlock\\n       XIX. Moving On\\n        XX. A New Lodger\\n       XXI. The Smallweed Family\\n      XXII. Mr. Bucket\\n     XXIII. Esther's Narrative\\n      XXIV. An Appeal Case\\n       XXV. Mrs. Snagsby Sees It All\\n      XXVI. Sharpshooters\\n     XXVII. More Old Soldiers Than One\\n    XXVIII. The Ironmaster\\n      XXIX. The Young Man\\n       XXX. Esther's Narrative\\n      XXXI. Nurse and Patient\\n     XXXII. The Appointed Time\\n    XXXIII. Interlop\""
      ]
     },
     "execution_count": 5,
     "metadata": {},
     "output_type": "execute_result"
    }
   ],
   "source": [
    "corpus[:1000]"
   ]
  },
  {
   "cell_type": "code",
   "execution_count": 6,
   "metadata": {
    "ExecuteTime": {
     "end_time": "2020-10-12T09:32:40.481211Z",
     "start_time": "2020-10-12T09:32:40.119435Z"
    }
   },
   "outputs": [
    {
     "data": {
      "text/plain": [
       "['bleak',\n",
       " 'hous',\n",
       " 'by',\n",
       " 'charl',\n",
       " 'dicken',\n",
       " 'content',\n",
       " 'prefac',\n",
       " 'i',\n",
       " 'in',\n",
       " 'chanceri']"
      ]
     },
     "execution_count": 6,
     "metadata": {},
     "output_type": "execute_result"
    }
   ],
   "source": [
    "words = process(corpus)\n",
    "words[:10]"
   ]
  },
  {
   "cell_type": "code",
   "execution_count": 7,
   "metadata": {
    "ExecuteTime": {
     "end_time": "2020-10-12T09:32:40.577722Z",
     "start_time": "2020-10-12T09:32:40.482562Z"
    }
   },
   "outputs": [
    {
     "data": {
      "text/plain": [
       "['bleak', 'hous', 'by', '<UNK>', '<UNK>']"
      ]
     },
     "execution_count": 7,
     "metadata": {},
     "output_type": "execute_result"
    }
   ],
   "source": [
    "words_with_unk = replace_uncommon_words(words)\n",
    "words_with_unk[:5]"
   ]
  },
  {
   "cell_type": "code",
   "execution_count": 8,
   "metadata": {
    "ExecuteTime": {
     "end_time": "2020-10-12T09:32:40.584424Z",
     "start_time": "2020-10-12T09:32:40.580376Z"
    }
   },
   "outputs": [],
   "source": [
    "index_to_word, word_to_index, vocab = create_word_indices(words_with_unk)"
   ]
  },
  {
   "cell_type": "code",
   "execution_count": 9,
   "metadata": {
    "ExecuteTime": {
     "end_time": "2020-10-12T09:32:40.592632Z",
     "start_time": "2020-10-12T09:32:40.587316Z"
    }
   },
   "outputs": [
    {
     "data": {
      "text/plain": [
       "1259"
      ]
     },
     "execution_count": 9,
     "metadata": {},
     "output_type": "execute_result"
    }
   ],
   "source": [
    "vocab_size = len(vocab)\n",
    "vocab_size"
   ]
  },
  {
   "cell_type": "code",
   "execution_count": 10,
   "metadata": {
    "ExecuteTime": {
     "end_time": "2020-10-12T09:32:40.609511Z",
     "start_time": "2020-10-12T09:32:40.594179Z"
    }
   },
   "outputs": [
    {
     "data": {
      "text/plain": [
       "[['bleak',\n",
       "  'hous',\n",
       "  'by',\n",
       "  '<UNK>',\n",
       "  '<UNK>',\n",
       "  'content',\n",
       "  'prefac',\n",
       "  'i',\n",
       "  'in',\n",
       "  'chanceri',\n",
       "  'ii'],\n",
       " ['hous',\n",
       "  'by',\n",
       "  '<UNK>',\n",
       "  '<UNK>',\n",
       "  'content',\n",
       "  'prefac',\n",
       "  'i',\n",
       "  'in',\n",
       "  'chanceri',\n",
       "  'ii',\n",
       "  'in']]"
      ]
     },
     "execution_count": 10,
     "metadata": {},
     "output_type": "execute_result"
    }
   ],
   "source": [
    "examples = convert_window(words_with_unk)\n",
    "examples[:2]"
   ]
  },
  {
   "cell_type": "code",
   "execution_count": 11,
   "metadata": {
    "ExecuteTime": {
     "end_time": "2020-10-12T09:32:40.614970Z",
     "start_time": "2020-10-12T09:32:40.611017Z"
    }
   },
   "outputs": [],
   "source": [
    "def convert_word_data_to_numbers(input):\n",
    "    Xs = []\n",
    "    Ys = []\n",
    "    for row in input:\n",
    "        Xs.append([word_to_index[word] for word in row[:-1]])\n",
    "        Ys.append([word_to_index[word] for word in row[-1:]])\n",
    "\n",
    "    X = np.vstack(Xs)\n",
    "    Y = np.vstack(Ys)\n",
    "\n",
    "    return X, Y"
   ]
  },
  {
   "cell_type": "code",
   "execution_count": 12,
   "metadata": {
    "ExecuteTime": {
     "end_time": "2020-10-12T09:32:40.856319Z",
     "start_time": "2020-10-12T09:32:40.618714Z"
    }
   },
   "outputs": [],
   "source": [
    "X, Y = convert_word_data_to_numbers(examples)"
   ]
  },
  {
   "cell_type": "code",
   "execution_count": 13,
   "metadata": {
    "ExecuteTime": {
     "end_time": "2020-10-12T09:32:40.862322Z",
     "start_time": "2020-10-12T09:32:40.857939Z"
    }
   },
   "outputs": [
    {
     "data": {
      "text/plain": [
       "array([[1029,  664, 1025,  883,  883,  326, 1169, 1209, 1035,  185],\n",
       "       [ 664, 1025,  883,  883,  326, 1169, 1209, 1035,  185,  300],\n",
       "       [1025,  883,  883,  326, 1169, 1209, 1035,  185,  300, 1035],\n",
       "       [ 883,  883,  326, 1169, 1209, 1035,  185,  300, 1035,  708],\n",
       "       [ 883,  326, 1169, 1209, 1035,  185,  300, 1035,  708,  369]])"
      ]
     },
     "execution_count": 13,
     "metadata": {},
     "output_type": "execute_result"
    }
   ],
   "source": [
    "X[0:5]"
   ]
  },
  {
   "cell_type": "code",
   "execution_count": 14,
   "metadata": {
    "ExecuteTime": {
     "end_time": "2020-10-12T09:32:40.869380Z",
     "start_time": "2020-10-12T09:32:40.864665Z"
    }
   },
   "outputs": [
    {
     "data": {
      "text/plain": [
       "array([[ 300],\n",
       "       [1035],\n",
       "       [ 708],\n",
       "       [ 369],\n",
       "       [ 431]])"
      ]
     },
     "execution_count": 14,
     "metadata": {},
     "output_type": "execute_result"
    }
   ],
   "source": [
    "Y[0:5]"
   ]
  },
  {
   "cell_type": "code",
   "execution_count": 15,
   "metadata": {
    "ExecuteTime": {
     "end_time": "2020-10-12T09:32:41.190421Z",
     "start_time": "2020-10-12T09:32:40.871037Z"
    }
   },
   "outputs": [
    {
     "data": {
      "text/plain": [
       "((18212, 10, 1259), (18212, 1259))"
      ]
     },
     "execution_count": 15,
     "metadata": {},
     "output_type": "execute_result"
    }
   ],
   "source": [
    "Y = to_categorical(Y, num_classes=vocab_size)\n",
    "X = to_categorical(X, num_classes=vocab_size)\n",
    "X.shape, Y.shape"
   ]
  },
  {
   "cell_type": "code",
   "execution_count": 16,
   "metadata": {
    "ExecuteTime": {
     "end_time": "2020-10-12T09:32:42.429531Z",
     "start_time": "2020-10-12T09:32:41.192027Z"
    }
   },
   "outputs": [],
   "source": [
    "X_train, X_val, X_test, Y_train, Y_val, Y_test =  split_data(X, Y)"
   ]
  },
  {
   "cell_type": "code",
   "execution_count": 17,
   "metadata": {
    "ExecuteTime": {
     "end_time": "2020-10-12T09:32:42.708417Z",
     "start_time": "2020-10-12T09:32:42.431114Z"
    }
   },
   "outputs": [],
   "source": [
    "model = Sequential()\n",
    "model.add(layers.LSTM(units=75, input_shape=(X.shape[1], X.shape[2])))\n",
    "model.add(layers.Dense(vocab_size, activation='softmax'))\n",
    "model.compile(optimizer='adam', loss='categorical_crossentropy', metrics=['accuracy'])"
   ]
  },
  {
   "cell_type": "code",
   "execution_count": 18,
   "metadata": {
    "ExecuteTime": {
     "end_time": "2020-10-12T09:33:38.739015Z",
     "start_time": "2020-10-12T09:32:42.710052Z"
    }
   },
   "outputs": [
    {
     "name": "stdout",
     "output_type": "stream",
     "text": [
      "Epoch 1/20\n",
      "161/161 - 3s - loss: 6.0330 - accuracy: 0.0720\n",
      "Epoch 2/20\n",
      "161/161 - 3s - loss: 5.6008 - accuracy: 0.0757\n",
      "Epoch 3/20\n",
      "161/161 - 3s - loss: 5.5788 - accuracy: 0.0757\n",
      "Epoch 4/20\n",
      "161/161 - 3s - loss: 5.5619 - accuracy: 0.0757\n",
      "Epoch 5/20\n",
      "161/161 - 3s - loss: 5.5468 - accuracy: 0.0759\n",
      "Epoch 6/20\n",
      "161/161 - 3s - loss: 5.5270 - accuracy: 0.0798\n",
      "Epoch 7/20\n",
      "161/161 - 3s - loss: 5.4967 - accuracy: 0.0791\n",
      "Epoch 8/20\n",
      "161/161 - 3s - loss: 5.4480 - accuracy: 0.0856\n",
      "Epoch 9/20\n",
      "161/161 - 3s - loss: 5.3905 - accuracy: 0.0954\n",
      "Epoch 10/20\n",
      "161/161 - 3s - loss: 5.3273 - accuracy: 0.1029\n",
      "Epoch 11/20\n",
      "161/161 - 3s - loss: 5.2597 - accuracy: 0.1127\n",
      "Epoch 12/20\n",
      "161/161 - 3s - loss: 5.1910 - accuracy: 0.1242\n",
      "Epoch 13/20\n",
      "161/161 - 3s - loss: 5.1080 - accuracy: 0.1318\n",
      "Epoch 14/20\n",
      "161/161 - 3s - loss: 5.0249 - accuracy: 0.1432\n",
      "Epoch 15/20\n",
      "161/161 - 3s - loss: 4.9386 - accuracy: 0.1539\n",
      "Epoch 16/20\n",
      "161/161 - 3s - loss: 4.8510 - accuracy: 0.1632\n",
      "Epoch 17/20\n",
      "161/161 - 3s - loss: 4.7577 - accuracy: 0.1702\n",
      "Epoch 18/20\n",
      "161/161 - 3s - loss: 4.6647 - accuracy: 0.1776\n",
      "Epoch 19/20\n",
      "161/161 - 3s - loss: 4.5734 - accuracy: 0.1842\n",
      "Epoch 20/20\n",
      "161/161 - 3s - loss: 4.4724 - accuracy: 0.1968\n"
     ]
    },
    {
     "data": {
      "text/plain": [
       "<tensorflow.python.keras.callbacks.History at 0x13f11caf0>"
      ]
     },
     "execution_count": 18,
     "metadata": {},
     "output_type": "execute_result"
    }
   ],
   "source": [
    "model.fit(X_train, Y_train, epochs=20, verbose=2, batch_size=64)"
   ]
  },
  {
   "cell_type": "code",
   "execution_count": null,
   "metadata": {},
   "outputs": [],
   "source": []
  }
 ],
 "metadata": {
  "kernelspec": {
   "display_name": "myenv",
   "language": "python",
   "name": "myenv"
  },
  "language_info": {
   "codemirror_mode": {
    "name": "ipython",
    "version": 3
   },
   "file_extension": ".py",
   "mimetype": "text/x-python",
   "name": "python",
   "nbconvert_exporter": "python",
   "pygments_lexer": "ipython3",
   "version": "3.8.3"
  },
  "toc-showcode": true,
  "toc-showmarkdowntxt": true
 },
 "nbformat": 4,
 "nbformat_minor": 4
}
